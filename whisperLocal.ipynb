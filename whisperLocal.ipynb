{
 "cells": [
  {
   "cell_type": "markdown",
   "metadata": {},
   "source": [
    "# Local Whisper\n",
    "https://github.com/openai/whisper"
   ]
  },
  {
   "cell_type": "markdown",
   "metadata": {},
   "source": [
    "Requiere FFMPEG\n",
    "https://github.com/BtbN/FFmpeg-Builds/releases"
   ]
  },
  {
   "cell_type": "markdown",
   "metadata": {},
   "source": [
    "# en terminal:\n",
    "* python -m venv whisper-env ( para crear un entorno virtual )\n",
    "* whisper-env\\Scripts\\activate ( para activar el entorno )\n",
    "\n",
    "Instalacion de dependencias en el entorno:\n",
    "\n",
    "* pip install torch torchvision torchaudio --index-url https://download.pytorch.org/whl/cuda\n",
    "* pip install git+https://github.com/openai/whisper.git\n",
    "* pip install notebook ffmpeg-python"
   ]
  },
  {
   "cell_type": "markdown",
   "metadata": {},
   "source": [
    "import whisper\n",
    "\n",
    "**( 'tiny', 'small','base', 'medium', o 'large')**\n",
    "model = whisper.load_model(\"base\")\n",
    "\n",
    "**archivo de audio**\n",
    "audio_path = \"\"\n",
    "\n",
    "**Transcribir el audio**\n",
    "result = model.transcribe(audio_path)\n",
    "\n",
    "**Mostrar el texto transcrito**\n",
    "print(result['text'])\n"
   ]
  },
  {
   "cell_type": "code",
   "execution_count": null,
   "metadata": {},
   "outputs": [],
   "source": [
    "import whisper\n",
    "\n",
    "model = whisper.load_model(\"base\")\n",
    "\n",
    "audio_path = \"\"\n",
    "\n",
    "result = model.transcribe(audio_path)\n",
    "\n",
    "print(result['text'])"
   ]
  }
 ],
 "metadata": {
  "kernelspec": {
   "display_name": "Python 3",
   "language": "python",
   "name": "python3"
  },
  "language_info": {
   "codemirror_mode": {
    "name": "ipython",
    "version": 3
   },
   "file_extension": ".py",
   "mimetype": "text/x-python",
   "name": "python",
   "nbconvert_exporter": "python",
   "pygments_lexer": "ipython3",
   "version": "3.9.13"
  }
 },
 "nbformat": 4,
 "nbformat_minor": 2
}
